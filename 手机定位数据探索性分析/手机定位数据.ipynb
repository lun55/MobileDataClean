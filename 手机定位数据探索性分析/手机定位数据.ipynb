{
 "cells": [
  {
   "cell_type": "code",
   "execution_count": 1,
   "id": "f131370a",
   "metadata": {},
   "outputs": [],
   "source": [
    "import os\n",
    "import pandas as pd\n",
    "import numpy as np\n",
    "from io import StringIO\n",
    "from tqdm import tqdm\n",
    "from collections import defaultdict\n",
    "from concurrent.futures import ProcessPoolExecutor, ThreadPoolExecutor\n",
    "import geopandas as gpd\n",
    "import pandas as pd\n",
    "import pickle\n",
    "from geopy.distance import geodesic # 用于计算距离\n",
    "from joblib import Parallel, delayed\n",
    "import sqlite3\n",
    "from multiprocessing import Manager\n",
    "import os\n",
    "import gc\n",
    "import csv\n",
    "from tqdm import tqdm\n",
    "import glob\n",
    "import concurrent.futures"
   ]
  },
  {
   "cell_type": "markdown",
   "id": "b5619b95",
   "metadata": {},
   "source": [
    "### 全数据"
   ]
  },
  {
   "cell_type": "code",
   "execution_count": 2,
   "id": "e5705acf",
   "metadata": {},
   "outputs": [],
   "source": [
    " # 检查表是否存在\n",
    "def table_exists(conn, table_name):\n",
    "    query = f\"SELECT name FROM sqlite_master WHERE type='table' AND name='{table_name}'\"\n",
    "    result = conn.execute(query).fetchone()\n",
    "    return result is not None\n"
   ]
  },
  {
   "cell_type": "code",
   "execution_count": 6,
   "id": "283b25fe",
   "metadata": {},
   "outputs": [],
   "source": [
    "# 将数据存入数据库，构建索引，分块提取数据\n",
    "db_path  = \"E:\\福州.db\"\n",
    "point_file = r\"G:\\2023-04-03\\part-00000-0b9e0192-156d-49b5-b24c-926a1409fad2-c000.csv\"\n",
    "batch_size = 3000000\n",
    "\n",
    "# 存入数据库\n",
    "conn = sqlite3.connect(db_path)\n",
    "filename = \"table1\"\n",
    "chunksize = 2000000\n",
    "if table_exists(conn, filename):\n",
    "    print(f\"表 {filename} 已存在，跳过创建\")\n",
    "else:\n",
    "    columns_needed = ['脱敏ID', '经度', '纬度', '开始时间']\n",
    "    for i, chunk in enumerate(pd.read_csv(point_file, chunksize=chunksize, usecols=columns_needed)):\n",
    "        chunk.columns = ['ID', 'longitude', 'latitude', 'timestamp'] \n",
    "        if i == 0:\n",
    "            chunk.to_sql(filename, conn, if_exists='replace', index=False)\n",
    "        else:\n",
    "            chunk.to_sql(filename, conn, if_exists='append', index=False)\n",
    "        del chunk\n",
    "        gc.collect()\n",
    "    conn.execute(f'CREATE INDEX IF NOT EXISTS idx_id_timestamp ON `{filename}` (ID, timestamp)')\n",
    "    conn.commit()"
   ]
  },
  {
   "cell_type": "code",
   "execution_count": 10,
   "id": "e99da609",
   "metadata": {},
   "outputs": [
    {
     "name": "stdout",
     "output_type": "stream",
     "text": [
      "总记录数: 83272052\n"
     ]
    }
   ],
   "source": [
    "cursor = conn.cursor()\n",
    "# 查询表的总记录数\n",
    "cursor.execute( f\"SELECT COUNT(*) FROM `{filename}`;\")\n",
    "total_rows = cursor.fetchone()[0]  # 获取结果中的第一个值\n",
    "print(f\"总记录数: {total_rows}\")"
   ]
  },
  {
   "cell_type": "code",
   "execution_count": 6,
   "id": "1d17d734",
   "metadata": {},
   "outputs": [
    {
     "data": {
      "text/html": [
       "<div>\n",
       "<style scoped>\n",
       "    .dataframe tbody tr th:only-of-type {\n",
       "        vertical-align: middle;\n",
       "    }\n",
       "\n",
       "    .dataframe tbody tr th {\n",
       "        vertical-align: top;\n",
       "    }\n",
       "\n",
       "    .dataframe thead th {\n",
       "        text-align: right;\n",
       "    }\n",
       "</style>\n",
       "<table border=\"1\" class=\"dataframe\">\n",
       "  <thead>\n",
       "    <tr style=\"text-align: right;\">\n",
       "      <th></th>\n",
       "      <th>ID</th>\n",
       "      <th>timestamp</th>\n",
       "      <th>interval_seconds</th>\n",
       "    </tr>\n",
       "  </thead>\n",
       "  <tbody>\n",
       "    <tr>\n",
       "      <th>1</th>\n",
       "      <td>0000059c-50c6-481e-b384-a01d75569030</td>\n",
       "      <td>2023-04-03 08:09:21</td>\n",
       "      <td>13346.0</td>\n",
       "    </tr>\n",
       "    <tr>\n",
       "      <th>2</th>\n",
       "      <td>0000059c-50c6-481e-b384-a01d75569030</td>\n",
       "      <td>2023-04-03 10:14:03</td>\n",
       "      <td>7482.0</td>\n",
       "    </tr>\n",
       "    <tr>\n",
       "      <th>3</th>\n",
       "      <td>0000059c-50c6-481e-b384-a01d75569030</td>\n",
       "      <td>2023-04-03 10:17:58</td>\n",
       "      <td>235.0</td>\n",
       "    </tr>\n",
       "    <tr>\n",
       "      <th>4</th>\n",
       "      <td>0000059c-50c6-481e-b384-a01d75569030</td>\n",
       "      <td>2023-04-03 11:17:59</td>\n",
       "      <td>3601.0</td>\n",
       "    </tr>\n",
       "    <tr>\n",
       "      <th>5</th>\n",
       "      <td>0000059c-50c6-481e-b384-a01d75569030</td>\n",
       "      <td>2023-04-03 12:23:43</td>\n",
       "      <td>3944.0</td>\n",
       "    </tr>\n",
       "    <tr>\n",
       "      <th>...</th>\n",
       "      <td>...</td>\n",
       "      <td>...</td>\n",
       "      <td>...</td>\n",
       "    </tr>\n",
       "    <tr>\n",
       "      <th>83272046</th>\n",
       "      <td>gfkna;:4~oo4cfh96 bad5y718co72a45eb</td>\n",
       "      <td>2023-04-03 14:13:49</td>\n",
       "      <td>4703.0</td>\n",
       "    </tr>\n",
       "    <tr>\n",
       "      <th>83272047</th>\n",
       "      <td>gfkna;:4~oo4cfh96 bad5y718co72a45eb</td>\n",
       "      <td>2023-04-03 17:30:03</td>\n",
       "      <td>11774.0</td>\n",
       "    </tr>\n",
       "    <tr>\n",
       "      <th>83272048</th>\n",
       "      <td>gfkna;:4~oo4cfh96 bad5y718co72a45eb</td>\n",
       "      <td>2023-04-03 18:35:29</td>\n",
       "      <td>3926.0</td>\n",
       "    </tr>\n",
       "    <tr>\n",
       "      <th>83272049</th>\n",
       "      <td>gfkna;:4~oo4cfh96 bad5y718co72a45eb</td>\n",
       "      <td>2023-04-03 19:38:01</td>\n",
       "      <td>3752.0</td>\n",
       "    </tr>\n",
       "    <tr>\n",
       "      <th>83272050</th>\n",
       "      <td>gfkna;:4~oo4cfh96 bad5y718co72a45eb</td>\n",
       "      <td>2023-04-03 21:53:32</td>\n",
       "      <td>8131.0</td>\n",
       "    </tr>\n",
       "  </tbody>\n",
       "</table>\n",
       "<p>77015914 rows × 3 columns</p>\n",
       "</div>"
      ],
      "text/plain": [
       "                                            ID           timestamp  \\\n",
       "1         0000059c-50c6-481e-b384-a01d75569030 2023-04-03 08:09:21   \n",
       "2         0000059c-50c6-481e-b384-a01d75569030 2023-04-03 10:14:03   \n",
       "3         0000059c-50c6-481e-b384-a01d75569030 2023-04-03 10:17:58   \n",
       "4         0000059c-50c6-481e-b384-a01d75569030 2023-04-03 11:17:59   \n",
       "5         0000059c-50c6-481e-b384-a01d75569030 2023-04-03 12:23:43   \n",
       "...                                        ...                 ...   \n",
       "83272046  gfkna;:4~oo4cfh96 bad5y718co72a45eb 2023-04-03 14:13:49   \n",
       "83272047  gfkna;:4~oo4cfh96 bad5y718co72a45eb 2023-04-03 17:30:03   \n",
       "83272048  gfkna;:4~oo4cfh96 bad5y718co72a45eb 2023-04-03 18:35:29   \n",
       "83272049  gfkna;:4~oo4cfh96 bad5y718co72a45eb 2023-04-03 19:38:01   \n",
       "83272050  gfkna;:4~oo4cfh96 bad5y718co72a45eb 2023-04-03 21:53:32   \n",
       "\n",
       "          interval_seconds  \n",
       "1                  13346.0  \n",
       "2                   7482.0  \n",
       "3                    235.0  \n",
       "4                   3601.0  \n",
       "5                   3944.0  \n",
       "...                    ...  \n",
       "83272046            4703.0  \n",
       "83272047           11774.0  \n",
       "83272048            3926.0  \n",
       "83272049            3752.0  \n",
       "83272050            8131.0  \n",
       "\n",
       "[77015914 rows x 3 columns]"
      ]
     },
     "execution_count": 6,
     "metadata": {},
     "output_type": "execute_result"
    }
   ],
   "source": [
    "def get_time_intervals(conn, filename):\n",
    "    # 先读取原始数据\n",
    "    df = pd.read_sql(f\"SELECT ID, timestamp FROM `{filename}`\", conn)\n",
    "    \n",
    "    # 转换为datetime类型（自动识别常见格式）\n",
    "    df['timestamp'] = pd.to_datetime(df['timestamp'], errors='coerce')\n",
    "    \n",
    "    # 计算时间差（秒）\n",
    "    df['interval_seconds'] = df.groupby('ID')['timestamp'].diff().dt.total_seconds()\n",
    "    \n",
    "    return df.dropna(subset=['interval_seconds'])\n",
    "intervals = get_time_intervals(conn, filename)\n",
    "intervals"
   ]
  },
  {
   "cell_type": "code",
   "execution_count": null,
   "id": "1290d350",
   "metadata": {},
   "outputs": [
    {
     "data": {
      "text/plain": [
       "1           222\n",
       "2           125\n",
       "3             4\n",
       "4            60\n",
       "5            66\n",
       "           ... \n",
       "83272046     78\n",
       "83272047    196\n",
       "83272048     65\n",
       "83272049     63\n",
       "83272050    136\n",
       "Name: interval_minutes, Length: 77015914, dtype: int32"
      ]
     },
     "execution_count": 7,
     "metadata": {},
     "output_type": "execute_result"
    }
   ],
   "source": [
    "intervals['interval_minutes'] = intervals['interval_seconds'] // 60"
   ]
  },
  {
   "cell_type": "markdown",
   "id": "ed2f6bdf",
   "metadata": {},
   "source": [
    "平均值"
   ]
  },
  {
   "cell_type": "code",
   "execution_count": 9,
   "id": "04fd4e20",
   "metadata": {},
   "outputs": [
    {
     "data": {
      "text/plain": [
       "79.83859017760926"
      ]
     },
     "execution_count": 9,
     "metadata": {},
     "output_type": "execute_result"
    }
   ],
   "source": [
    "intervals['interval_minutes'].mean()"
   ]
  },
  {
   "cell_type": "code",
   "execution_count": 10,
   "id": "1a30db57",
   "metadata": {},
   "outputs": [
    {
     "data": {
      "text/plain": [
       "interval_minutes\n",
       "60      6047815\n",
       "30      5977809\n",
       "31      3727288\n",
       "61      3139133\n",
       "32      2636782\n",
       "         ...   \n",
       "1429          2\n",
       "1430          1\n",
       "1436          1\n",
       "1439          1\n",
       "1431          1\n",
       "Name: count, Length: 1437, dtype: int64"
      ]
     },
     "execution_count": 10,
     "metadata": {},
     "output_type": "execute_result"
    }
   ],
   "source": [
    "interval_counts = intervals['interval_minutes'].value_counts()\n",
    "interval_counts"
   ]
  },
  {
   "cell_type": "markdown",
   "id": "e5aed163",
   "metadata": {},
   "source": [
    "排序"
   ]
  },
  {
   "cell_type": "code",
   "execution_count": 11,
   "id": "dfd0287d",
   "metadata": {},
   "outputs": [
    {
     "data": {
      "text/plain": [
       "interval_minutes\n",
       "0     560016\n",
       "1     124601\n",
       "2     106740\n",
       "3     107249\n",
       "4     109041\n",
       "5      98201\n",
       "6      91868\n",
       "7      86668\n",
       "8      84804\n",
       "9      78421\n",
       "10     80803\n",
       "11     74024\n",
       "12     76366\n",
       "13     71394\n",
       "14     71508\n",
       "15     68344\n",
       "16     68908\n",
       "17     66249\n",
       "18     67510\n",
       "19     66485\n",
       "Name: count, dtype: int64"
      ]
     },
     "execution_count": 11,
     "metadata": {},
     "output_type": "execute_result"
    }
   ],
   "source": [
    "interval_counts.sort_index().head(20)"
   ]
  },
  {
   "cell_type": "code",
   "execution_count": 12,
   "id": "dd0ad62c",
   "metadata": {},
   "outputs": [
    {
     "data": {
      "text/plain": [
       "interval_minutes\n",
       "60    6047815\n",
       "30    5977809\n",
       "31    3727288\n",
       "61    3139133\n",
       "32    2636782\n",
       "62    2353201\n",
       "33    2061734\n",
       "63    1822503\n",
       "34    1787317\n",
       "64    1560759\n",
       "35    1476420\n",
       "36    1265922\n",
       "65    1261920\n",
       "66    1094946\n",
       "37    1054823\n",
       "38     970531\n",
       "67     937192\n",
       "68     869365\n",
       "40     852462\n",
       "39     847397\n",
       "Name: count, dtype: int64"
      ]
     },
     "execution_count": 12,
     "metadata": {},
     "output_type": "execute_result"
    }
   ],
   "source": [
    "interval_counts.sort_values(ascending=False).head(20)"
   ]
  },
  {
   "cell_type": "code",
   "execution_count": 19,
   "id": "833b70bf",
   "metadata": {},
   "outputs": [
    {
     "data": {
      "text/plain": [
       "<Axes: xlabel='interval_minutes'>"
      ]
     },
     "execution_count": 19,
     "metadata": {},
     "output_type": "execute_result"
    },
    {
     "data": {
      "image/png": "[encoded data removed]",
      "text/plain": [
       "<Figure size 640x480 with 1 Axes>"
      ]
     },
     "metadata": {},
     "output_type": "display_data"
    }
   ],
   "source": [
    "interval_counts.sort_values(ascending=False).plot()"
   ]
  },
  {
   "cell_type": "code",
   "execution_count": 30,
   "id": "83da5566",
   "metadata": {},
   "outputs": [
    {
     "data": {
      "text/plain": [
       "81.41521374400621"
      ]
     },
     "execution_count": 30,
     "metadata": {},
     "output_type": "execute_result"
    }
   ],
   "source": [
    "# 统计 ≤30分钟的间隔数量（排除NaN）\n",
    "count_30min = intervals[intervals['interval_minutes'] <= 100]['interval_minutes'].count()\n",
    "\n",
    "# 总有效数据量（排除NaN）\n",
    "total_count = intervals['interval_minutes'].count()\n",
    "\n",
    "# 计算百分比\n",
    "percentage = (count_30min / total_count) * 100\n",
    "percentage"
   ]
  },
  {
   "cell_type": "markdown",
   "id": "432f8a67",
   "metadata": {},
   "source": [
    "### 福州市"
   ]
  },
  {
   "cell_type": "code",
   "execution_count": null,
   "id": "7aa10c1f",
   "metadata": {},
   "outputs": [],
   "source": [
    "# 先读取原始数据\n",
    "df = pd.read_csv(\"F:\\Timing_4_1.csv\", usecols=['ID','timestamp'])\n",
    "\n",
    "# 转换为datetime类型（自动识别常见格式）\n",
    "df['timestamp'] = pd.to_datetime(df['timestamp'], format='%Y-%m-%d %H:%M:%S')\n",
    "df = df.sort_values(by=['ID', 'timestamp'])\n",
    "# 计算时间差（秒）\n",
    "df['interval_seconds'] = df.groupby('ID')['timestamp'].diff().dt.total_seconds()"
   ]
  },
  {
   "cell_type": "code",
   "execution_count": null,
   "id": "8698df0e",
   "metadata": {},
   "outputs": [
    {
     "data": {
      "text/html": [
       "<div>\n",
       "<style scoped>\n",
       "    .dataframe tbody tr th:only-of-type {\n",
       "        vertical-align: middle;\n",
       "    }\n",
       "\n",
       "    .dataframe tbody tr th {\n",
       "        vertical-align: top;\n",
       "    }\n",
       "\n",
       "    .dataframe thead th {\n",
       "        text-align: right;\n",
       "    }\n",
       "</style>\n",
       "<table border=\"1\" class=\"dataframe\">\n",
       "  <thead>\n",
       "    <tr style=\"text-align: right;\">\n",
       "      <th></th>\n",
       "      <th>ID</th>\n",
       "      <th>timestamp</th>\n",
       "      <th>interval_seconds</th>\n",
       "    </tr>\n",
       "  </thead>\n",
       "  <tbody>\n",
       "    <tr>\n",
       "      <th>0</th>\n",
       "      <td>00000b7d-4f1d-44dc-a5e6-535ccd67b14a</td>\n",
       "      <td>2023-04-01 05:44:30</td>\n",
       "      <td>NaN</td>\n",
       "    </tr>\n",
       "    <tr>\n",
       "      <th>1</th>\n",
       "      <td>00000b7d-4f1d-44dc-a5e6-535ccd67b14a</td>\n",
       "      <td>2023-04-01 08:13:34</td>\n",
       "      <td>8944.0</td>\n",
       "    </tr>\n",
       "    <tr>\n",
       "      <th>2</th>\n",
       "      <td>00000b7d-4f1d-44dc-a5e6-535ccd67b14a</td>\n",
       "      <td>2023-04-01 09:24:35</td>\n",
       "      <td>4261.0</td>\n",
       "    </tr>\n",
       "    <tr>\n",
       "      <th>3</th>\n",
       "      <td>00000b7d-4f1d-44dc-a5e6-535ccd67b14a</td>\n",
       "      <td>2023-04-01 10:37:01</td>\n",
       "      <td>4346.0</td>\n",
       "    </tr>\n",
       "    <tr>\n",
       "      <th>4</th>\n",
       "      <td>00001b94-cbad-357d-a3f7-93840bd9fd6a</td>\n",
       "      <td>2023-04-01 00:22:20</td>\n",
       "      <td>NaN</td>\n",
       "    </tr>\n",
       "    <tr>\n",
       "      <th>...</th>\n",
       "      <td>...</td>\n",
       "      <td>...</td>\n",
       "      <td>...</td>\n",
       "    </tr>\n",
       "    <tr>\n",
       "      <th>18001541</th>\n",
       "      <td>ae02e0fd-b6f5-3511-bd96-70a36eb955f4</td>\n",
       "      <td>2023-04-01 19:58:56</td>\n",
       "      <td>7025.0</td>\n",
       "    </tr>\n",
       "    <tr>\n",
       "      <th>18001545</th>\n",
       "      <td>ae02f173-4545-417f-af98-b25</td>\n",
       "      <td>NaT</td>\n",
       "      <td>NaN</td>\n",
       "    </tr>\n",
       "    <tr>\n",
       "      <th>18001542</th>\n",
       "      <td>ae02f173-4545-417f-af98-b258be2595e3</td>\n",
       "      <td>2023-04-01 00:01:40</td>\n",
       "      <td>NaN</td>\n",
       "    </tr>\n",
       "    <tr>\n",
       "      <th>18001543</th>\n",
       "      <td>ae02f173-4545-417f-af98-b258be2595e3</td>\n",
       "      <td>2023-04-01 01:01:42</td>\n",
       "      <td>3602.0</td>\n",
       "    </tr>\n",
       "    <tr>\n",
       "      <th>18001544</th>\n",
       "      <td>ae02f173-4545-417f-af98-b258be2595e3</td>\n",
       "      <td>2023-04-01 02:27:50</td>\n",
       "      <td>5168.0</td>\n",
       "    </tr>\n",
       "  </tbody>\n",
       "</table>\n",
       "<p>18001546 rows × 3 columns</p>\n",
       "</div>"
      ],
      "text/plain": [
       "                                            ID           timestamp  \\\n",
       "0         00000b7d-4f1d-44dc-a5e6-535ccd67b14a 2023-04-01 05:44:30   \n",
       "1         00000b7d-4f1d-44dc-a5e6-535ccd67b14a 2023-04-01 08:13:34   \n",
       "2         00000b7d-4f1d-44dc-a5e6-535ccd67b14a 2023-04-01 09:24:35   \n",
       "3         00000b7d-4f1d-44dc-a5e6-535ccd67b14a 2023-04-01 10:37:01   \n",
       "4         00001b94-cbad-357d-a3f7-93840bd9fd6a 2023-04-01 00:22:20   \n",
       "...                                        ...                 ...   \n",
       "18001541  ae02e0fd-b6f5-3511-bd96-70a36eb955f4 2023-04-01 19:58:56   \n",
       "18001545           ae02f173-4545-417f-af98-b25                 NaT   \n",
       "18001542  ae02f173-4545-417f-af98-b258be2595e3 2023-04-01 00:01:40   \n",
       "18001543  ae02f173-4545-417f-af98-b258be2595e3 2023-04-01 01:01:42   \n",
       "18001544  ae02f173-4545-417f-af98-b258be2595e3 2023-04-01 02:27:50   \n",
       "\n",
       "          interval_seconds  \n",
       "0                      NaN  \n",
       "1                   8944.0  \n",
       "2                   4261.0  \n",
       "3                   4346.0  \n",
       "4                      NaN  \n",
       "...                    ...  \n",
       "18001541            7025.0  \n",
       "18001545               NaN  \n",
       "18001542               NaN  \n",
       "18001543            3602.0  \n",
       "18001544            5168.0  \n",
       "\n",
       "[18001546 rows x 3 columns]"
      ]
     },
     "execution_count": 59,
     "metadata": {},
     "output_type": "execute_result"
    }
   ],
   "source": [
    "df"
   ]
  },
  {
   "cell_type": "code",
   "execution_count": null,
   "id": "b7796c0f",
   "metadata": {},
   "outputs": [
    {
     "data": {
      "text/html": [
       "<div>\n",
       "<style scoped>\n",
       "    .dataframe tbody tr th:only-of-type {\n",
       "        vertical-align: middle;\n",
       "    }\n",
       "\n",
       "    .dataframe tbody tr th {\n",
       "        vertical-align: top;\n",
       "    }\n",
       "\n",
       "    .dataframe thead th {\n",
       "        text-align: right;\n",
       "    }\n",
       "</style>\n",
       "<table border=\"1\" class=\"dataframe\">\n",
       "  <thead>\n",
       "    <tr style=\"text-align: right;\">\n",
       "      <th></th>\n",
       "      <th>ID</th>\n",
       "      <th>timestamp</th>\n",
       "      <th>interval_seconds</th>\n",
       "    </tr>\n",
       "  </thead>\n",
       "  <tbody>\n",
       "    <tr>\n",
       "      <th>1</th>\n",
       "      <td>00000b7d-4f1d-44dc-a5e6-535ccd67b14a</td>\n",
       "      <td>2023-04-01 08:13:34</td>\n",
       "      <td>8944.0</td>\n",
       "    </tr>\n",
       "    <tr>\n",
       "      <th>2</th>\n",
       "      <td>00000b7d-4f1d-44dc-a5e6-535ccd67b14a</td>\n",
       "      <td>2023-04-01 09:24:35</td>\n",
       "      <td>4261.0</td>\n",
       "    </tr>\n",
       "    <tr>\n",
       "      <th>3</th>\n",
       "      <td>00000b7d-4f1d-44dc-a5e6-535ccd67b14a</td>\n",
       "      <td>2023-04-01 10:37:01</td>\n",
       "      <td>4346.0</td>\n",
       "    </tr>\n",
       "    <tr>\n",
       "      <th>5</th>\n",
       "      <td>00001b94-cbad-357d-a3f7-93840bd9fd6a</td>\n",
       "      <td>2023-04-01 08:42:10</td>\n",
       "      <td>29990.0</td>\n",
       "    </tr>\n",
       "    <tr>\n",
       "      <th>6</th>\n",
       "      <td>00001b94-cbad-357d-a3f7-93840bd9fd6a</td>\n",
       "      <td>2023-04-01 09:12:49</td>\n",
       "      <td>1839.0</td>\n",
       "    </tr>\n",
       "    <tr>\n",
       "      <th>...</th>\n",
       "      <td>...</td>\n",
       "      <td>...</td>\n",
       "      <td>...</td>\n",
       "    </tr>\n",
       "    <tr>\n",
       "      <th>18001539</th>\n",
       "      <td>ae02e0fd-b6f5-3511-bd96-70a36eb955f4</td>\n",
       "      <td>2023-04-01 17:27:41</td>\n",
       "      <td>11566.0</td>\n",
       "    </tr>\n",
       "    <tr>\n",
       "      <th>18001540</th>\n",
       "      <td>ae02e0fd-b6f5-3511-bd96-70a36eb955f4</td>\n",
       "      <td>2023-04-01 18:01:51</td>\n",
       "      <td>2050.0</td>\n",
       "    </tr>\n",
       "    <tr>\n",
       "      <th>18001541</th>\n",
       "      <td>ae02e0fd-b6f5-3511-bd96-70a36eb955f4</td>\n",
       "      <td>2023-04-01 19:58:56</td>\n",
       "      <td>7025.0</td>\n",
       "    </tr>\n",
       "    <tr>\n",
       "      <th>18001543</th>\n",
       "      <td>ae02f173-4545-417f-af98-b258be2595e3</td>\n",
       "      <td>2023-04-01 01:01:42</td>\n",
       "      <td>3602.0</td>\n",
       "    </tr>\n",
       "    <tr>\n",
       "      <th>18001544</th>\n",
       "      <td>ae02f173-4545-417f-af98-b258be2595e3</td>\n",
       "      <td>2023-04-01 02:27:50</td>\n",
       "      <td>5168.0</td>\n",
       "    </tr>\n",
       "  </tbody>\n",
       "</table>\n",
       "<p>16433241 rows × 3 columns</p>\n",
       "</div>"
      ],
      "text/plain": [
       "                                            ID           timestamp  \\\n",
       "1         00000b7d-4f1d-44dc-a5e6-535ccd67b14a 2023-04-01 08:13:34   \n",
       "2         00000b7d-4f1d-44dc-a5e6-535ccd67b14a 2023-04-01 09:24:35   \n",
       "3         00000b7d-4f1d-44dc-a5e6-535ccd67b14a 2023-04-01 10:37:01   \n",
       "5         00001b94-cbad-357d-a3f7-93840bd9fd6a 2023-04-01 08:42:10   \n",
       "6         00001b94-cbad-357d-a3f7-93840bd9fd6a 2023-04-01 09:12:49   \n",
       "...                                        ...                 ...   \n",
       "18001539  ae02e0fd-b6f5-3511-bd96-70a36eb955f4 2023-04-01 17:27:41   \n",
       "18001540  ae02e0fd-b6f5-3511-bd96-70a36eb955f4 2023-04-01 18:01:51   \n",
       "18001541  ae02e0fd-b6f5-3511-bd96-70a36eb955f4 2023-04-01 19:58:56   \n",
       "18001543  ae02f173-4545-417f-af98-b258be2595e3 2023-04-01 01:01:42   \n",
       "18001544  ae02f173-4545-417f-af98-b258be2595e3 2023-04-01 02:27:50   \n",
       "\n",
       "          interval_seconds  \n",
       "1                   8944.0  \n",
       "2                   4261.0  \n",
       "3                   4346.0  \n",
       "5                  29990.0  \n",
       "6                   1839.0  \n",
       "...                    ...  \n",
       "18001539           11566.0  \n",
       "18001540            2050.0  \n",
       "18001541            7025.0  \n",
       "18001543            3602.0  \n",
       "18001544            5168.0  \n",
       "\n",
       "[16433241 rows x 3 columns]"
      ]
     },
     "execution_count": 60,
     "metadata": {},
     "output_type": "execute_result"
    }
   ],
   "source": [
    "df.dropna(subset=['interval_seconds'], inplace=True)\n",
    "df"
   ]
  },
  {
   "cell_type": "code",
   "execution_count": null,
   "id": "68b20e64",
   "metadata": {},
   "outputs": [
    {
     "data": {
      "text/plain": [
       "1           149\n",
       "2            71\n",
       "3            72\n",
       "5           500\n",
       "6            31\n",
       "           ... \n",
       "18001539    193\n",
       "18001540     34\n",
       "18001541    117\n",
       "18001543     60\n",
       "18001544     86\n",
       "Name: interval_minutes, Length: 16433241, dtype: int32"
      ]
     },
     "execution_count": 61,
     "metadata": {},
     "output_type": "execute_result"
    }
   ],
   "source": [
    "df['interval_minutes'] = df['interval_seconds'] / 60\n",
    "df['interval_minutes'].round(0).astype(int)"
   ]
  },
  {
   "cell_type": "code",
   "execution_count": null,
   "id": "b3caf0d3",
   "metadata": {},
   "outputs": [],
   "source": [
    "df['interval_minutes']=df['interval_minutes'].round(0).astype(int)"
   ]
  },
  {
   "cell_type": "code",
   "execution_count": null,
   "id": "92672750",
   "metadata": {},
   "outputs": [
    {
     "data": {
      "text/plain": [
       "interval_minutes\n",
       "60      1254990\n",
       "30      1131542\n",
       "31       761035\n",
       "61       588139\n",
       "32       548412\n",
       "         ...   \n",
       "1434          1\n",
       "1420          1\n",
       "1410          1\n",
       "1422          1\n",
       "1397          1\n",
       "Name: count, Length: 1429, dtype: int64"
      ]
     },
     "execution_count": 63,
     "metadata": {},
     "output_type": "execute_result"
    }
   ],
   "source": [
    "interval_counts = df['interval_minutes'].value_counts()\n",
    "interval_counts"
   ]
  },
  {
   "cell_type": "code",
   "execution_count": null,
   "id": "f7855879",
   "metadata": {},
   "outputs": [
    {
     "data": {
      "text/plain": [
       "<Axes: xlabel='interval_minutes'>"
      ]
     },
     "execution_count": 64,
     "metadata": {},
     "output_type": "execute_result"
    },
    {
     "data": {
      "image/png": "[encoded data removed]",
      "text/plain": [
       "<Figure size 640x480 with 1 Axes>"
      ]
     },
     "metadata": {},
     "output_type": "display_data"
    }
   ],
   "source": [
    "interval_counts.sort_values(ascending=False).plot()"
   ]
  },
  {
   "cell_type": "code",
   "execution_count": null,
   "id": "8c2ed26b",
   "metadata": {},
   "outputs": [
    {
     "data": {
      "text/plain": [
       "86.91500532366075"
      ]
     },
     "execution_count": 65,
     "metadata": {},
     "output_type": "execute_result"
    }
   ],
   "source": [
    "df['interval_minutes'].mean()"
   ]
  },
  {
   "cell_type": "code",
   "execution_count": null,
   "id": "9ae6ee33",
   "metadata": {},
   "outputs": [
    {
     "data": {
      "text/plain": [
       "interval_minutes\n",
       "60    1254990\n",
       "30    1131542\n",
       "31     761035\n",
       "61     588139\n",
       "32     548412\n",
       "62     444683\n",
       "33     433618\n",
       "34     378776\n",
       "63     352829\n",
       "35     315794\n",
       "64     308228\n",
       "36     271833\n",
       "65     253556\n",
       "37     227216\n",
       "66     224659\n",
       "38     210027\n",
       "67     194006\n",
       "40     184748\n",
       "39     183787\n",
       "68     181989\n",
       "Name: count, dtype: int64"
      ]
     },
     "execution_count": 66,
     "metadata": {},
     "output_type": "execute_result"
    }
   ],
   "source": [
    "interval_counts.sort_values(ascending=False).head(20)"
   ]
  }
 ],
 "metadata": {
  "kernelspec": {
   "display_name": "gis",
   "language": "python",
   "name": "python3"
  },
  "language_info": {
   "codemirror_mode": {
    "name": "ipython",
    "version": 3
   },
   "file_extension": ".py",
   "mimetype": "text/x-python",
   "name": "python",
   "nbconvert_exporter": "python",
   "pygments_lexer": "ipython3",
   "version": "3.10.16"
  }
 },
 "nbformat": 4,
 "nbformat_minor": 5
}
