{
 "cells": [
  {
   "cell_type": "code",
   "execution_count": 2,
   "id": "7c6116c1",
   "metadata": {},
   "outputs": [],
   "source": [
    "import os\n",
    "import pandas as pd\n",
    "import numpy as np\n",
    "from io import StringIO\n",
    "from tqdm import tqdm\n",
    "from collections import defaultdict\n",
    "from concurrent.futures import ProcessPoolExecutor, ThreadPoolExecutor\n",
    "import geopandas as gpd"
   ]
  },
  {
   "cell_type": "code",
   "execution_count": 3,
   "id": "17efa9fb",
   "metadata": {},
   "outputs": [],
   "source": [
    "# 数据\n",
    "data = pd.read_csv(r\"F:\\福州\\Timing_4_3.csv\")"
   ]
  },
  {
   "cell_type": "code",
   "execution_count": 11,
   "id": "471790c8",
   "metadata": {},
   "outputs": [
    {
     "data": {
      "text/html": [
       "<div>\n",
       "<style scoped>\n",
       "    .dataframe tbody tr th:only-of-type {\n",
       "        vertical-align: middle;\n",
       "    }\n",
       "\n",
       "    .dataframe tbody tr th {\n",
       "        vertical-align: top;\n",
       "    }\n",
       "\n",
       "    .dataframe thead th {\n",
       "        text-align: right;\n",
       "    }\n",
       "</style>\n",
       "<table border=\"1\" class=\"dataframe\">\n",
       "  <thead>\n",
       "    <tr style=\"text-align: right;\">\n",
       "      <th></th>\n",
       "      <th>started_at</th>\n",
       "      <th>finished_at</th>\n",
       "      <th>longitude</th>\n",
       "      <th>latitude</th>\n",
       "      <th>ID</th>\n",
       "      <th>time</th>\n",
       "    </tr>\n",
       "  </thead>\n",
       "  <tbody>\n",
       "    <tr>\n",
       "      <th>0</th>\n",
       "      <td>2023-04-03 00:10:56</td>\n",
       "      <td>2023-04-03 12:02:11</td>\n",
       "      <td>119.175145</td>\n",
       "      <td>25.910189</td>\n",
       "      <td>00001b94-cbad-357d-a3f7-93840bd9fd6a</td>\n",
       "      <td>0</td>\n",
       "    </tr>\n",
       "    <tr>\n",
       "      <th>1</th>\n",
       "      <td>2023-04-03 14:03:25</td>\n",
       "      <td>2023-04-03 23:54:38</td>\n",
       "      <td>119.175197</td>\n",
       "      <td>25.910766</td>\n",
       "      <td>00001b94-cbad-357d-a3f7-93840bd9fd6a</td>\n",
       "      <td>14</td>\n",
       "    </tr>\n",
       "    <tr>\n",
       "      <th>2</th>\n",
       "      <td>2023-04-03 00:47:41</td>\n",
       "      <td>2023-04-03 02:47:36</td>\n",
       "      <td>119.255977</td>\n",
       "      <td>26.109386</td>\n",
       "      <td>00002edc-5b31-42d7-913b-4c06358ef30a</td>\n",
       "      <td>0</td>\n",
       "    </tr>\n",
       "    <tr>\n",
       "      <th>3</th>\n",
       "      <td>2023-04-03 08:03:19</td>\n",
       "      <td>2023-04-03 11:09:08</td>\n",
       "      <td>119.257831</td>\n",
       "      <td>26.106583</td>\n",
       "      <td>00002edc-5b31-42d7-913b-4c06358ef30a</td>\n",
       "      <td>8</td>\n",
       "    </tr>\n",
       "    <tr>\n",
       "      <th>4</th>\n",
       "      <td>2023-04-03 12:10:59</td>\n",
       "      <td>2023-04-03 13:13:17</td>\n",
       "      <td>119.256460</td>\n",
       "      <td>26.109264</td>\n",
       "      <td>00002edc-5b31-42d7-913b-4c06358ef30a</td>\n",
       "      <td>12</td>\n",
       "    </tr>\n",
       "    <tr>\n",
       "      <th>...</th>\n",
       "      <td>...</td>\n",
       "      <td>...</td>\n",
       "      <td>...</td>\n",
       "      <td>...</td>\n",
       "      <td>...</td>\n",
       "      <td>...</td>\n",
       "    </tr>\n",
       "    <tr>\n",
       "      <th>3670090</th>\n",
       "      <td>2023-04-03 13:53:11</td>\n",
       "      <td>2023-04-03 18:55:45</td>\n",
       "      <td>119.349452</td>\n",
       "      <td>26.021215</td>\n",
       "      <td>gfkgdkl`~9h6bfbf5 bil5y7c&gt;5;a:d02go</td>\n",
       "      <td>13</td>\n",
       "    </tr>\n",
       "    <tr>\n",
       "      <th>3670091</th>\n",
       "      <td>2023-04-03 00:52:39</td>\n",
       "      <td>2023-04-03 07:39:15</td>\n",
       "      <td>119.338592</td>\n",
       "      <td>26.037298</td>\n",
       "      <td>gfkna;:4~oo4cfh96 bad5y718co72a45eb</td>\n",
       "      <td>0</td>\n",
       "    </tr>\n",
       "    <tr>\n",
       "      <th>3670092</th>\n",
       "      <td>2023-04-03 10:54:40</td>\n",
       "      <td>2023-04-03 11:55:12</td>\n",
       "      <td>119.325868</td>\n",
       "      <td>26.045517</td>\n",
       "      <td>gfkna;:4~oo4cfh96 bad5y718co72a45eb</td>\n",
       "      <td>10</td>\n",
       "    </tr>\n",
       "    <tr>\n",
       "      <th>3670093</th>\n",
       "      <td>2023-04-03 14:13:49</td>\n",
       "      <td>2023-04-03 17:30:03</td>\n",
       "      <td>119.338600</td>\n",
       "      <td>26.037283</td>\n",
       "      <td>gfkna;:4~oo4cfh96 bad5y718co72a45eb</td>\n",
       "      <td>14</td>\n",
       "    </tr>\n",
       "    <tr>\n",
       "      <th>3670094</th>\n",
       "      <td>2023-04-03 18:35:29</td>\n",
       "      <td>2023-04-03 19:38:01</td>\n",
       "      <td>119.330032</td>\n",
       "      <td>26.095630</td>\n",
       "      <td>gfkna;:4~oo4cfh96 bad5y718co72a45eb</td>\n",
       "      <td>18</td>\n",
       "    </tr>\n",
       "  </tbody>\n",
       "</table>\n",
       "<p>3670095 rows × 6 columns</p>\n",
       "</div>"
      ],
      "text/plain": [
       "                 started_at          finished_at   longitude   latitude  \\\n",
       "0       2023-04-03 00:10:56  2023-04-03 12:02:11  119.175145  25.910189   \n",
       "1       2023-04-03 14:03:25  2023-04-03 23:54:38  119.175197  25.910766   \n",
       "2       2023-04-03 00:47:41  2023-04-03 02:47:36  119.255977  26.109386   \n",
       "3       2023-04-03 08:03:19  2023-04-03 11:09:08  119.257831  26.106583   \n",
       "4       2023-04-03 12:10:59  2023-04-03 13:13:17  119.256460  26.109264   \n",
       "...                     ...                  ...         ...        ...   \n",
       "3670090 2023-04-03 13:53:11  2023-04-03 18:55:45  119.349452  26.021215   \n",
       "3670091 2023-04-03 00:52:39  2023-04-03 07:39:15  119.338592  26.037298   \n",
       "3670092 2023-04-03 10:54:40  2023-04-03 11:55:12  119.325868  26.045517   \n",
       "3670093 2023-04-03 14:13:49  2023-04-03 17:30:03  119.338600  26.037283   \n",
       "3670094 2023-04-03 18:35:29  2023-04-03 19:38:01  119.330032  26.095630   \n",
       "\n",
       "                                           ID  time  \n",
       "0        00001b94-cbad-357d-a3f7-93840bd9fd6a     0  \n",
       "1        00001b94-cbad-357d-a3f7-93840bd9fd6a    14  \n",
       "2        00002edc-5b31-42d7-913b-4c06358ef30a     0  \n",
       "3        00002edc-5b31-42d7-913b-4c06358ef30a     8  \n",
       "4        00002edc-5b31-42d7-913b-4c06358ef30a    12  \n",
       "...                                       ...   ...  \n",
       "3670090  gfkgdkl`~9h6bfbf5 bil5y7c>5;a:d02go    13  \n",
       "3670091  gfkna;:4~oo4cfh96 bad5y718co72a45eb     0  \n",
       "3670092  gfkna;:4~oo4cfh96 bad5y718co72a45eb    10  \n",
       "3670093  gfkna;:4~oo4cfh96 bad5y718co72a45eb    14  \n",
       "3670094  gfkna;:4~oo4cfh96 bad5y718co72a45eb    18  \n",
       "\n",
       "[3670095 rows x 6 columns]"
      ]
     },
     "execution_count": 11,
     "metadata": {},
     "output_type": "execute_result"
    }
   ],
   "source": [
    "data"
   ]
  },
  {
   "cell_type": "code",
   "execution_count": 12,
   "id": "721df3b9",
   "metadata": {},
   "outputs": [
    {
     "data": {
      "text/plain": [
       "1232416"
      ]
     },
     "execution_count": 12,
     "metadata": {},
     "output_type": "execute_result"
    }
   ],
   "source": [
    "len(data['ID'].unique())"
   ]
  },
  {
   "cell_type": "markdown",
   "id": "a1e8f539",
   "metadata": {},
   "source": [
    "### 停留次数统计"
   ]
  },
  {
   "cell_type": "code",
   "execution_count": 4,
   "id": "ef4d26ad",
   "metadata": {},
   "outputs": [],
   "source": [
    "#  统计用户停留点的数量\n",
    "def caculate_adj_staypoint(data):\n",
    "    transition_counts = (\n",
    "        data.groupby(['ID'])\n",
    "        .size()\n",
    "        .reset_index(name='visit_count')\n",
    "    )\n",
    "    return transition_counts"
   ]
  },
  {
   "cell_type": "code",
   "execution_count": 5,
   "id": "f4445f87",
   "metadata": {},
   "outputs": [
    {
     "data": {
      "text/html": [
       "<div>\n",
       "<style scoped>\n",
       "    .dataframe tbody tr th:only-of-type {\n",
       "        vertical-align: middle;\n",
       "    }\n",
       "\n",
       "    .dataframe tbody tr th {\n",
       "        vertical-align: top;\n",
       "    }\n",
       "\n",
       "    .dataframe thead th {\n",
       "        text-align: right;\n",
       "    }\n",
       "</style>\n",
       "<table border=\"1\" class=\"dataframe\">\n",
       "  <thead>\n",
       "    <tr style=\"text-align: right;\">\n",
       "      <th></th>\n",
       "      <th>ID</th>\n",
       "      <th>visit_count</th>\n",
       "    </tr>\n",
       "  </thead>\n",
       "  <tbody>\n",
       "    <tr>\n",
       "      <th>0</th>\n",
       "      <td>00001b94-cbad-357d-a3f7-93840bd9fd6a</td>\n",
       "      <td>2</td>\n",
       "    </tr>\n",
       "    <tr>\n",
       "      <th>1</th>\n",
       "      <td>00002edc-5b31-42d7-913b-4c06358ef30a</td>\n",
       "      <td>5</td>\n",
       "    </tr>\n",
       "    <tr>\n",
       "      <th>2</th>\n",
       "      <td>000045bd-9334-43c9-a2af-dcf62c170d72</td>\n",
       "      <td>2</td>\n",
       "    </tr>\n",
       "    <tr>\n",
       "      <th>3</th>\n",
       "      <td>00006455-865a-499f-82d9-43b79b590ac3</td>\n",
       "      <td>2</td>\n",
       "    </tr>\n",
       "    <tr>\n",
       "      <th>4</th>\n",
       "      <td>0000727d-52ab-360e-b13b-05fb64ce7b26</td>\n",
       "      <td>5</td>\n",
       "    </tr>\n",
       "    <tr>\n",
       "      <th>...</th>\n",
       "      <td>...</td>\n",
       "      <td>...</td>\n",
       "    </tr>\n",
       "    <tr>\n",
       "      <th>1232411</th>\n",
       "      <td>gfk379=?~3ogcf49b 8ciay360&gt;9f0236be</td>\n",
       "      <td>3</td>\n",
       "    </tr>\n",
       "    <tr>\n",
       "      <th>1232412</th>\n",
       "      <td>gfk3d;nd~oo43ff80 ;1o7yfcl2:67b&gt;ecf</td>\n",
       "      <td>3</td>\n",
       "    </tr>\n",
       "    <tr>\n",
       "      <th>1232413</th>\n",
       "      <td>gfkae5l5~lm17fb0b 8`lgy3ci7i3g55aja</td>\n",
       "      <td>2</td>\n",
       "    </tr>\n",
       "    <tr>\n",
       "      <th>1232414</th>\n",
       "      <td>gfkgdkl`~9h6bfbf5 bil5y7c&gt;5;a:d02go</td>\n",
       "      <td>2</td>\n",
       "    </tr>\n",
       "    <tr>\n",
       "      <th>1232415</th>\n",
       "      <td>gfkna;:4~oo4cfh96 bad5y718co72a45eb</td>\n",
       "      <td>4</td>\n",
       "    </tr>\n",
       "  </tbody>\n",
       "</table>\n",
       "<p>1232416 rows × 2 columns</p>\n",
       "</div>"
      ],
      "text/plain": [
       "                                           ID  visit_count\n",
       "0        00001b94-cbad-357d-a3f7-93840bd9fd6a            2\n",
       "1        00002edc-5b31-42d7-913b-4c06358ef30a            5\n",
       "2        000045bd-9334-43c9-a2af-dcf62c170d72            2\n",
       "3        00006455-865a-499f-82d9-43b79b590ac3            2\n",
       "4        0000727d-52ab-360e-b13b-05fb64ce7b26            5\n",
       "...                                       ...          ...\n",
       "1232411  gfk379=?~3ogcf49b 8ciay360>9f0236be            3\n",
       "1232412  gfk3d;nd~oo43ff80 ;1o7yfcl2:67b>ecf            3\n",
       "1232413  gfkae5l5~lm17fb0b 8`lgy3ci7i3g55aja            2\n",
       "1232414  gfkgdkl`~9h6bfbf5 bil5y7c>5;a:d02go            2\n",
       "1232415  gfkna;:4~oo4cfh96 bad5y718co72a45eb            4\n",
       "\n",
       "[1232416 rows x 2 columns]"
      ]
     },
     "execution_count": 5,
     "metadata": {},
     "output_type": "execute_result"
    }
   ],
   "source": [
    "transition_counts = caculate_adj_staypoint(data)\n",
    "transition_counts"
   ]
  },
  {
   "cell_type": "code",
   "execution_count": 6,
   "id": "28bf8017",
   "metadata": {},
   "outputs": [
    {
     "data": {
      "text/plain": [
       "<Axes: xlabel='visit_count'>"
      ]
     },
     "execution_count": 6,
     "metadata": {},
     "output_type": "execute_result"
    },
    {
     "data": {
      "image/png": "[encoded data removed]",
      "text/plain": [
       "<Figure size 640x480 with 1 Axes>"
      ]
     },
     "metadata": {},
     "output_type": "display_data"
    }
   ],
   "source": [
    "vist_count = (\n",
    "        transition_counts.groupby(['visit_count'])\n",
    "        .size()\n",
    "        .reset_index(name='count')\n",
    "    )\n",
    "vist_count.plot(x='visit_count',y='count',kind='bar') # 停留的数量在4个以内，以2个为最多"
   ]
  },
  {
   "cell_type": "code",
   "execution_count": 7,
   "id": "926b17ef",
   "metadata": {},
   "outputs": [
    {
     "data": {
      "text/html": [
       "<div>\n",
       "<style scoped>\n",
       "    .dataframe tbody tr th:only-of-type {\n",
       "        vertical-align: middle;\n",
       "    }\n",
       "\n",
       "    .dataframe tbody tr th {\n",
       "        vertical-align: top;\n",
       "    }\n",
       "\n",
       "    .dataframe thead th {\n",
       "        text-align: right;\n",
       "    }\n",
       "</style>\n",
       "<table border=\"1\" class=\"dataframe\">\n",
       "  <thead>\n",
       "    <tr style=\"text-align: right;\">\n",
       "      <th></th>\n",
       "      <th>visit_count</th>\n",
       "      <th>count</th>\n",
       "    </tr>\n",
       "  </thead>\n",
       "  <tbody>\n",
       "    <tr>\n",
       "      <th>0</th>\n",
       "      <td>2</td>\n",
       "      <td>510530</td>\n",
       "    </tr>\n",
       "    <tr>\n",
       "      <th>1</th>\n",
       "      <td>3</td>\n",
       "      <td>414126</td>\n",
       "    </tr>\n",
       "    <tr>\n",
       "      <th>2</th>\n",
       "      <td>4</td>\n",
       "      <td>184205</td>\n",
       "    </tr>\n",
       "    <tr>\n",
       "      <th>3</th>\n",
       "      <td>5</td>\n",
       "      <td>85123</td>\n",
       "    </tr>\n",
       "    <tr>\n",
       "      <th>4</th>\n",
       "      <td>6</td>\n",
       "      <td>27294</td>\n",
       "    </tr>\n",
       "    <tr>\n",
       "      <th>5</th>\n",
       "      <td>7</td>\n",
       "      <td>9002</td>\n",
       "    </tr>\n",
       "    <tr>\n",
       "      <th>6</th>\n",
       "      <td>8</td>\n",
       "      <td>1827</td>\n",
       "    </tr>\n",
       "    <tr>\n",
       "      <th>7</th>\n",
       "      <td>9</td>\n",
       "      <td>269</td>\n",
       "    </tr>\n",
       "    <tr>\n",
       "      <th>8</th>\n",
       "      <td>10</td>\n",
       "      <td>34</td>\n",
       "    </tr>\n",
       "    <tr>\n",
       "      <th>9</th>\n",
       "      <td>11</td>\n",
       "      <td>5</td>\n",
       "    </tr>\n",
       "    <tr>\n",
       "      <th>10</th>\n",
       "      <td>12</td>\n",
       "      <td>1</td>\n",
       "    </tr>\n",
       "  </tbody>\n",
       "</table>\n",
       "</div>"
      ],
      "text/plain": [
       "    visit_count   count\n",
       "0             2  510530\n",
       "1             3  414126\n",
       "2             4  184205\n",
       "3             5   85123\n",
       "4             6   27294\n",
       "5             7    9002\n",
       "6             8    1827\n",
       "7             9     269\n",
       "8            10      34\n",
       "9            11       5\n",
       "10           12       1"
      ]
     },
     "execution_count": 7,
     "metadata": {},
     "output_type": "execute_result"
    }
   ],
   "source": [
    "vist_count"
   ]
  },
  {
   "cell_type": "code",
   "execution_count": 8,
   "id": "b11b1cfc",
   "metadata": {},
   "outputs": [
    {
     "data": {
      "text/plain": [
       "2.9779676667618724"
      ]
     },
     "execution_count": 8,
     "metadata": {},
     "output_type": "execute_result"
    }
   ],
   "source": [
    "# 平均停留次数\n",
    "transition_counts['visit_count'].mean() # 平均3次"
   ]
  },
  {
   "cell_type": "markdown",
   "id": "56acbedb",
   "metadata": {},
   "source": [
    "### 停留时间统计"
   ]
  },
  {
   "cell_type": "code",
   "execution_count": 9,
   "id": "1d6e477d",
   "metadata": {},
   "outputs": [],
   "source": [
    "data['started_at'] = pd.to_datetime(data['started_at'], format='%Y-%m-%d %H:%M:%S')\n",
    "data[\"time\"] = data[\"started_at\"].dt.hour"
   ]
  },
  {
   "cell_type": "code",
   "execution_count": 10,
   "id": "54562278",
   "metadata": {},
   "outputs": [
    {
     "data": {
      "text/plain": [
       "<Axes: xlabel='time'>"
      ]
     },
     "execution_count": 10,
     "metadata": {},
     "output_type": "execute_result"
    },
    {
     "data": {
      "image/png": "[encoded data removed]",
      "text/plain": [
       "<Figure size 640x480 with 1 Axes>"
      ]
     },
     "metadata": {},
     "output_type": "display_data"
    }
   ],
   "source": [
    "data.groupby('time').size().plot()"
   ]
  }
 ],
 "metadata": {
  "kernelspec": {
   "display_name": "Python 3",
   "language": "python",
   "name": "python3"
  },
  "language_info": {
   "codemirror_mode": {
    "name": "ipython",
    "version": 3
   },
   "file_extension": ".py",
   "mimetype": "text/x-python",
   "name": "python",
   "nbconvert_exporter": "python",
   "pygments_lexer": "ipython3",
   "version": "3.10.16"
  }
 },
 "nbformat": 4,
 "nbformat_minor": 5
}
